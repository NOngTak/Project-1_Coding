{
  "nbformat": 4,
  "nbformat_minor": 0,
  "metadata": {
    "colab": {
      "provenance": [],
      "authorship_tag": "ABX9TyMZg+5wq0Im7/ytpgjdwGnH",
      "include_colab_link": true
    },
    "kernelspec": {
      "name": "python3",
      "display_name": "Python 3"
    },
    "language_info": {
      "name": "python"
    }
  },
  "cells": [
    {
      "cell_type": "markdown",
      "metadata": {
        "id": "view-in-github",
        "colab_type": "text"
      },
      "source": [
        "<a href=\"https://colab.research.google.com/github/NOngTak/Project-1_Coding/blob/main/03_Tak.ipynb\" target=\"_parent\"><img src=\"https://colab.research.google.com/assets/colab-badge.svg\" alt=\"Open In Colab\"/></a>"
      ]
    },
    {
      "cell_type": "markdown",
      "source": [
        "# เลขที่ 3 ธนวันต์ พิมใจ\n",
        "No.3 Thanawan Pimjai 😃"
      ],
      "metadata": {
        "id": "VvO6xGrVccEB"
      }
    },
    {
      "cell_type": "markdown",
      "source": [
        "## 20/5/24 💛\n",
        "* ใช้คำสั่ง print เพื่อแสดงข้อความ เป็นการใช้ datatype แบบ string\n",
        "* เรียนรู้ความแตกต่างระหว่าง float (ทศนิยม) และ int (จำนวนเต็ม)"
      ],
      "metadata": {
        "id": "AZCEvbyPCGAo"
      }
    },
    {
      "cell_type": "code",
      "source": [
        "print(\"Hello_python\")"
      ],
      "metadata": {
        "colab": {
          "base_uri": "https://localhost:8080/"
        },
        "id": "UFmOEgkmBvon",
        "outputId": "d59c12d5-09d2-48bd-c640-ac21e1106cca"
      },
      "execution_count": null,
      "outputs": [
        {
          "output_type": "stream",
          "name": "stdout",
          "text": [
            "Hello_python\n"
          ]
        }
      ]
    },
    {
      "cell_type": "code",
      "execution_count": null,
      "metadata": {
        "id": "upalmYi_bbhx",
        "colab": {
          "base_uri": "https://localhost:8080/"
        },
        "outputId": "31e444c6-f55f-4cdc-f2d1-6cc5b3c7a46d"
      },
      "outputs": [
        {
          "output_type": "stream",
          "name": "stdout",
          "text": [
            "Sawaddee kub pom chue Tak kub\n"
          ]
        }
      ],
      "source": [
        "print(\"Sawaddee kub pom chue Tak kub\")"
      ]
    },
    {
      "cell_type": "code",
      "source": [
        "print((5+9)+(5*8))"
      ],
      "metadata": {
        "colab": {
          "base_uri": "https://localhost:8080/"
        },
        "id": "jKqD7cDtGb6Y",
        "outputId": "6d23002d-8020-4dd8-bf5d-505d58b4ee76"
      },
      "execution_count": null,
      "outputs": [
        {
          "output_type": "stream",
          "name": "stdout",
          "text": [
            "54\n"
          ]
        }
      ]
    },
    {
      "cell_type": "code",
      "source": [
        "print(\"How are you? \\\"freaking bad\\\"\")"
      ],
      "metadata": {
        "id": "rtS3LIdULEYj",
        "colab": {
          "base_uri": "https://localhost:8080/"
        },
        "outputId": "babd11c6-a360-4c4c-83f0-b5789ffe72b7"
      },
      "execution_count": null,
      "outputs": [
        {
          "output_type": "stream",
          "name": "stdout",
          "text": [
            "How are you? \"freaking bad\"\n"
          ]
        }
      ]
    },
    {
      "cell_type": "markdown",
      "source": [
        "## 29/5/2024\n",
        "\n",
        "* การตรวจสอบประเภทของข้อมูล code\n",
        "* ตัวแปร"
      ],
      "metadata": {
        "id": "6IufS2BEZP0U"
      }
    },
    {
      "cell_type": "code",
      "source": [
        "a = 2\n",
        "b = 1.5\n",
        "c = \"M.4/4\"\n",
        "\n",
        "print(\"ที่แปลที่ฉันคิดคือ friends\")\n",
        "\n",
        "type(a)"
      ],
      "metadata": {
        "colab": {
          "base_uri": "https://localhost:8080/"
        },
        "id": "pQ6goc_GZXvk",
        "outputId": "5dbb49b8-c3e1-47b1-ce4b-0f73c89bae2f"
      },
      "execution_count": null,
      "outputs": [
        {
          "output_type": "execute_result",
          "data": {
            "text/plain": [
              "int"
            ]
          },
          "metadata": {},
          "execution_count": 1
        }
      ]
    },
    {
      "cell_type": "code",
      "source": [
        "numeric1 = 5\n",
        "\n",
        "type(numeric1)\n",
        "\n",
        "print(numeric1)"
      ],
      "metadata": {
        "colab": {
          "base_uri": "https://localhost:8080/"
        },
        "id": "j13K23wDknBN",
        "outputId": "58c415b4-9c94-491f-a7ef-9163bf938c4d"
      },
      "execution_count": null,
      "outputs": [
        {
          "output_type": "stream",
          "name": "stdout",
          "text": [
            "5\n"
          ]
        }
      ]
    },
    {
      "cell_type": "markdown",
      "source": [
        "## 5/6/24\n",
        "* ค่าของ Index จะเริ่มที่ 0 แล้วเพิ่มขึ้นเรื่อยๆ\n",
        "* ความสัมพันธ์ของคอมพิวเตอร์กับโปรแกรมโจทย์\n",
        "* 1.Input - เขียนโค้ด\n",
        "* 2.Process - Colab ประมวลผลโค้ด\n",
        "* 3.Output - แสดงออกมาเป็น \"P\""
      ],
      "metadata": {
        "id": "Dr4OfMk5Waq7"
      }
    },
    {
      "cell_type": "code",
      "source": [
        "string1 = \"Python\"\n",
        "print(string1[0])"
      ],
      "metadata": {
        "colab": {
          "base_uri": "https://localhost:8080/"
        },
        "id": "DWGYmTafYO9q",
        "outputId": "23b3e6c7-3896-401b-ba06-934f90d4a61d"
      },
      "execution_count": null,
      "outputs": [
        {
          "output_type": "stream",
          "name": "stdout",
          "text": [
            "P\n"
          ]
        }
      ]
    },
    {
      "cell_type": "markdown",
      "source": [
        "## 26/06/24\n",
        "\n",
        "* การคำนวณพื้นที่สี่เหลี่ยมจตุรัส"
      ],
      "metadata": {
        "id": "yn6N0kmiQkW_"
      }
    },
    {
      "cell_type": "code",
      "source": [
        "side = int(input(\"ความยาวด้าน(ซม.)คือ\"))\n",
        "area = side*side\n",
        "print(\"พื้นที่สี่เหลี่ยมจตุรัส เท่ากับ\",area, \"ตร.ซม\")\n"
      ],
      "metadata": {
        "colab": {
          "base_uri": "https://localhost:8080/"
        },
        "id": "oA62qZNQQ4_7",
        "outputId": "df9a67ac-e537-4720-e9c7-285dea55e5fe"
      },
      "execution_count": null,
      "outputs": [
        {
          "output_type": "stream",
          "name": "stdout",
          "text": [
            "ความยาวด้าน(ซม.)คือ2\n",
            "พื้นที่สี่เหลี่ยมจตุรัส เท่ากับ 4 ตร.ซม\n"
          ]
        }
      ]
    },
    {
      "cell_type": "markdown",
      "source": [
        "## 1/07/24\n",
        "\n",
        "* เขียนโปรแกรมคำนวณพื้นที่สี่เหลี่ยมผืนผ้า\n",
        "* เขียนโปรแกรมสมการการเคลื่อนที่ในแนวตรง\n",
        "* เขียนโปรแกรมคำนวณดัชนีมวลกาย"
      ],
      "metadata": {
        "id": "OGiM3KPXQIU5"
      }
    },
    {
      "cell_type": "code",
      "source": [
        "lenght = int(input(\"ความยาวด้าน(ซม.) คือ\"))\n",
        "height = int(input(\"ความสูง(ซม.) คือ\"))\n",
        "area = side*height\n",
        "print(\"พื้นที่สี่เหลี่ยมผืนผ้า เท่ากับ\",area, \"ตร.ซม\")\n"
      ],
      "metadata": {
        "colab": {
          "base_uri": "https://localhost:8080/"
        },
        "id": "Ge2mrPYER_Ng",
        "outputId": "e4c89292-509a-4a6e-b0d3-3ba92c60acfc"
      },
      "execution_count": null,
      "outputs": [
        {
          "output_type": "stream",
          "name": "stdout",
          "text": [
            "ความยาวด้าน(ซม.) คือ2\n",
            "ความสูง(ซม.) คือ6\n",
            "พื้นที่สี่เหลี่ยมผืนผ้า เท่ากับ 12 ตร.ซม\n"
          ]
        }
      ]
    },
    {
      "cell_type": "code",
      "source": [
        "disatnce = float(input(\"ระยะทาง (ม.) คือ\"))\n",
        "time = float(input(\"เวลา (วินาที) คือ\"))\n",
        "velocity = s/t\n",
        "print(\"ความเร็ว เท่ากับ\",v, \"m/s\")\n"
      ],
      "metadata": {
        "colab": {
          "base_uri": "https://localhost:8080/"
        },
        "id": "Pwpq_kU2TFsx",
        "outputId": "6bb88e29-8f37-4b2f-e271-8bd13da50587"
      },
      "execution_count": null,
      "outputs": [
        {
          "output_type": "stream",
          "name": "stdout",
          "text": [
            "ระยะทาง (ม.) คือ5\n",
            "เวลา (วินาที) คือ10\n",
            "v เท่ากับ 0.5 m/s\n"
          ]
        }
      ]
    },
    {
      "cell_type": "code",
      "source": [
        "print(\"Sport and Fitness Support\")\n",
        "name = input(\"ชื่อ-นามสกุล คือ \")\n",
        "weight = float(input(\"น้ำหนัก (กิโลกรัม) คือ \"))\n",
        "height = float(input(\"ส่วนสูง (เซนติเมตร) คือ \"))\n",
        "BMI = weight/(height/100)**2\n",
        "print(\"ดัชนีมวลกาย เท่ากับ\",BMI)\n",
        "if BMI < 18.5:\n",
        "  print(\"น้ำหนักน้อยกว่าเกณฑ์ปกติ กรุณาเพิ่มน้ำหนักตามคำแนะนำของแพทย์หรือผู็เชี่ยวชาญ\")\n",
        "elif BMI < 24.9:\n",
        "    print(\"น้ำหนักปกติ\")\n",
        "elif  BMI < 25.9:\n",
        "    print(\"น้ำหนักเกินเกณฑ์ปกติ กรุณษาลดน้ำหนักตามคำแนะนำของแพทย์หรือผู้เชี่ยวชาญ\")\n",
        "\n",
        "    print(\"Thank you for using our service.\")\n",
        "print(\"T.Thanawan\")\n"
      ],
      "metadata": {
        "colab": {
          "base_uri": "https://localhost:8080/"
        },
        "id": "aO24RvOcZg3T",
        "outputId": "0e0a9ec4-662a-4e09-932f-6c3fc5b23e3f"
      },
      "execution_count": null,
      "outputs": [
        {
          "output_type": "stream",
          "name": "stdout",
          "text": [
            "Sport and Fitness Support\n",
            "ชื่อ-นามสกุล คือ ดกเ้เดก้่\n",
            "น้ำหนัก (กิโลกรัม) คือ 70\n",
            "ส่วนสูง (เซนติเมตร) คือ 160\n",
            "ดัชนีมวลกาย เท่ากับ 27.343749999999996\n",
            "T.Thanawan\n"
          ]
        }
      ]
    }
  ]
}